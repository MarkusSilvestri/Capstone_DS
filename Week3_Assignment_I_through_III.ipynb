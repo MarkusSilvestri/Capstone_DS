{
 "cells": [
  {
   "cell_type": "markdown",
   "metadata": {
    "collapsed": true
   },
   "source": [
    "<a id=\"Top\"></a>\n",
    "\n",
    "# Week 3, Capstone Course, Peer-grades Assignment\n",
    "\n",
    "1. [Part I](#PartI) \n",
    "2. [Part II](#PartII) \n",
    "3. [Part III](#PartIII) "
   ]
  },
  {
   "cell_type": "code",
   "execution_count": 1,
   "metadata": {
    "scrolled": false
   },
   "outputs": [],
   "source": [
    "import numpy as np\n",
    "import pandas as pd\n",
    "import folium\n",
    "from sklearn.cluster import KMeans\n",
    "from sklearn.cluster import DBSCAN"
   ]
  },
  {
   "cell_type": "markdown",
   "metadata": {},
   "source": [
    "<a id=\"PartI\"></a>\n",
    "\n",
    "# Part I\n",
    "\n",
    "[Top](#Top)"
   ]
  },
  {
   "cell_type": "markdown",
   "metadata": {},
   "source": [
    "### Import BeautifulSoup and Wiki html page"
   ]
  },
  {
   "cell_type": "code",
   "execution_count": 2,
   "metadata": {
    "scrolled": false
   },
   "outputs": [],
   "source": [
    "from bs4 import BeautifulSoup\n",
    "\n",
    "with open(\"List of postal codes of Canada  M - Wikipedia.html\") as fp:\n",
    "    soup = BeautifulSoup(fp,'html.parser')"
   ]
  },
  {
   "cell_type": "markdown",
   "metadata": {},
   "source": [
    "\n",
    "### Parsing"
   ]
  },
  {
   "cell_type": "code",
   "execution_count": 3,
   "metadata": {
    "scrolled": false
   },
   "outputs": [],
   "source": [
    "PostalList =[]\n",
    "for row in soup.find_all('tr'):\n",
    "    line = row.text.strip('\\r').lstrip('\\n').rstrip('\\n').rstrip('\\r').split('\\n')\n",
    "    if len(line)==1: break\n",
    "    PostalList.append(line) \n",
    "    "
   ]
  },
  {
   "cell_type": "code",
   "execution_count": 4,
   "metadata": {
    "scrolled": false
   },
   "outputs": [
    {
     "name": "stdout",
     "output_type": "stream",
     "text": [
      "Size of Table: 288\n"
     ]
    },
    {
     "data": {
      "text/html": [
       "<div>\n",
       "<style scoped>\n",
       "    .dataframe tbody tr th:only-of-type {\n",
       "        vertical-align: middle;\n",
       "    }\n",
       "\n",
       "    .dataframe tbody tr th {\n",
       "        vertical-align: top;\n",
       "    }\n",
       "\n",
       "    .dataframe thead th {\n",
       "        text-align: right;\n",
       "    }\n",
       "</style>\n",
       "<table border=\"1\" class=\"dataframe\">\n",
       "  <thead>\n",
       "    <tr style=\"text-align: right;\">\n",
       "      <th></th>\n",
       "      <th>Postcode</th>\n",
       "      <th>Borough</th>\n",
       "      <th>Neighbourhood</th>\n",
       "    </tr>\n",
       "  </thead>\n",
       "  <tbody>\n",
       "    <tr>\n",
       "      <th>0</th>\n",
       "      <td>M1A</td>\n",
       "      <td>Not assigned</td>\n",
       "      <td>Not assigned</td>\n",
       "    </tr>\n",
       "    <tr>\n",
       "      <th>1</th>\n",
       "      <td>M2A</td>\n",
       "      <td>Not assigned</td>\n",
       "      <td>Not assigned</td>\n",
       "    </tr>\n",
       "    <tr>\n",
       "      <th>2</th>\n",
       "      <td>M3A</td>\n",
       "      <td>North York</td>\n",
       "      <td>Parkwoods</td>\n",
       "    </tr>\n",
       "    <tr>\n",
       "      <th>3</th>\n",
       "      <td>M4A</td>\n",
       "      <td>North York</td>\n",
       "      <td>Victoria Village</td>\n",
       "    </tr>\n",
       "    <tr>\n",
       "      <th>4</th>\n",
       "      <td>M5A</td>\n",
       "      <td>Downtown Toronto</td>\n",
       "      <td>Harbourfront</td>\n",
       "    </tr>\n",
       "  </tbody>\n",
       "</table>\n",
       "</div>"
      ],
      "text/plain": [
       "  Postcode           Borough     Neighbourhood\n",
       "0      M1A      Not assigned      Not assigned\n",
       "1      M2A      Not assigned      Not assigned\n",
       "2      M3A        North York         Parkwoods\n",
       "3      M4A        North York  Victoria Village\n",
       "4      M5A  Downtown Toronto      Harbourfront"
      ]
     },
     "execution_count": 4,
     "metadata": {},
     "output_type": "execute_result"
    }
   ],
   "source": [
    "PostalList = pd.DataFrame(PostalList[1:], columns=PostalList[0])\n",
    "print('Size of Table:',len(PostalList))\n",
    "PostalList.head()"
   ]
  },
  {
   "cell_type": "markdown",
   "metadata": {},
   "source": [
    "### Unique Postal Codes"
   ]
  },
  {
   "cell_type": "code",
   "execution_count": 5,
   "metadata": {
    "scrolled": false
   },
   "outputs": [
    {
     "name": "stdout",
     "output_type": "stream",
     "text": [
      "Unique Postal Codes: 180\n",
      "Unique Boroughs: 12\n"
     ]
    }
   ],
   "source": [
    "UniquePostalCodes = PostalList['Postcode'].unique()\n",
    "UniquePostalBoroughs = PostalList['Borough'].unique()\n",
    "print('Unique Postal Codes:',len(UniquePostalCodes))\n",
    "print('Unique Boroughs:',len(UniquePostalBoroughs))"
   ]
  },
  {
   "cell_type": "markdown",
   "metadata": {},
   "source": [
    "## Cleaning up Table of Postal Codes\n",
    "\n",
    "Please see comments in cell for details"
   ]
  },
  {
   "cell_type": "code",
   "execution_count": 6,
   "metadata": {
    "scrolled": false
   },
   "outputs": [
    {
     "data": {
      "text/html": [
       "<div>\n",
       "<style scoped>\n",
       "    .dataframe tbody tr th:only-of-type {\n",
       "        vertical-align: middle;\n",
       "    }\n",
       "\n",
       "    .dataframe tbody tr th {\n",
       "        vertical-align: top;\n",
       "    }\n",
       "\n",
       "    .dataframe thead th {\n",
       "        text-align: right;\n",
       "    }\n",
       "</style>\n",
       "<table border=\"1\" class=\"dataframe\">\n",
       "  <thead>\n",
       "    <tr style=\"text-align: right;\">\n",
       "      <th></th>\n",
       "      <th>Postcode</th>\n",
       "      <th>Borough</th>\n",
       "      <th>Neighbourhood</th>\n",
       "    </tr>\n",
       "  </thead>\n",
       "  <tbody>\n",
       "    <tr>\n",
       "      <th>0</th>\n",
       "      <td>M3A</td>\n",
       "      <td>North York</td>\n",
       "      <td>Parkwoods</td>\n",
       "    </tr>\n",
       "    <tr>\n",
       "      <th>1</th>\n",
       "      <td>M4A</td>\n",
       "      <td>North York</td>\n",
       "      <td>Victoria Village</td>\n",
       "    </tr>\n",
       "    <tr>\n",
       "      <th>2</th>\n",
       "      <td>M5A</td>\n",
       "      <td>Downtown Toronto</td>\n",
       "      <td>Harbourfront, Regent Park</td>\n",
       "    </tr>\n",
       "    <tr>\n",
       "      <th>3</th>\n",
       "      <td>M6A</td>\n",
       "      <td>North York</td>\n",
       "      <td>Lawrence Heights, Lawrence Manor</td>\n",
       "    </tr>\n",
       "    <tr>\n",
       "      <th>4</th>\n",
       "      <td>M7A</td>\n",
       "      <td>Queen's Park</td>\n",
       "      <td>Not assigned</td>\n",
       "    </tr>\n",
       "    <tr>\n",
       "      <th>5</th>\n",
       "      <td>M9A</td>\n",
       "      <td>Etobicoke</td>\n",
       "      <td>Islington Avenue</td>\n",
       "    </tr>\n",
       "    <tr>\n",
       "      <th>6</th>\n",
       "      <td>M1B</td>\n",
       "      <td>Scarborough</td>\n",
       "      <td>Rouge, Malvern</td>\n",
       "    </tr>\n",
       "    <tr>\n",
       "      <th>7</th>\n",
       "      <td>M3B</td>\n",
       "      <td>North York</td>\n",
       "      <td>Don Mills North</td>\n",
       "    </tr>\n",
       "    <tr>\n",
       "      <th>8</th>\n",
       "      <td>M4B</td>\n",
       "      <td>East York</td>\n",
       "      <td>Woodbine Gardens, Parkview Hill</td>\n",
       "    </tr>\n",
       "    <tr>\n",
       "      <th>9</th>\n",
       "      <td>M5B</td>\n",
       "      <td>Downtown Toronto</td>\n",
       "      <td>Ryerson, Garden District</td>\n",
       "    </tr>\n",
       "  </tbody>\n",
       "</table>\n",
       "</div>"
      ],
      "text/plain": [
       "  Postcode           Borough                     Neighbourhood\n",
       "0      M3A        North York                         Parkwoods\n",
       "1      M4A        North York                  Victoria Village\n",
       "2      M5A  Downtown Toronto         Harbourfront, Regent Park\n",
       "3      M6A        North York  Lawrence Heights, Lawrence Manor\n",
       "4      M7A      Queen's Park                      Not assigned\n",
       "5      M9A         Etobicoke                  Islington Avenue\n",
       "6      M1B       Scarborough                    Rouge, Malvern\n",
       "7      M3B        North York                   Don Mills North\n",
       "8      M4B         East York   Woodbine Gardens, Parkview Hill\n",
       "9      M5B  Downtown Toronto          Ryerson, Garden District"
      ]
     },
     "execution_count": 6,
     "metadata": {},
     "output_type": "execute_result"
    }
   ],
   "source": [
    "Table = []\n",
    "\n",
    "for PC in UniquePostalCodes:\n",
    "    df1 = PostalList[PostalList.Postcode == PC]                 # subset defined by unique postal code\n",
    "    df1.reset_index(inplace = True)                             # reset the index to 0, 1,2,3, ... for k\n",
    "    if pd.Series(df1.Neighbourhood == 'Not assigned').all():    # Check if all of the neighbourhoods are 'Not assigned'\n",
    "        NH_str = 'Not assigned'                                 \n",
    "        k=0\n",
    "    else:  \n",
    "        k = np.min(np.where(df1.Neighbourhood != 'Not assigned')[0]) # find first cell that is not 'Not assigned'\n",
    "        NH_str = df1.loc[k,'Neighbourhood'].strip()                  # 1st neighbourhood in string\n",
    "        if len(df1)>k:                                               # renaming neighbourhoods\n",
    "            for NH in df1.loc[k+1:,'Neighbourhood']:\n",
    "                NH_str += (', '+ NH.strip())            \n",
    "    if pd.Series(df1.Borough == 'Not assigned').all():               # check if all boroughs are 'Not assigned'\n",
    "        B = df1.loc[k,'Neighbourhood']                               # if so then borough is 1st neighbourhood ...\n",
    "    else:                                                            # ... is not 'Not assigned'\n",
    "        k = np.min(np.where(df1.Borough != 'Not assigned')[0])\n",
    "        B = df1.loc[k,'Borough']                                     # 1st borough that is not 'Not assigned'\n",
    "    Table.append([PC, B, NH_str])                                    # append row to list\n",
    "\n",
    "df = pd.DataFrame(Table, columns = PostalList.columns)               # converting list to dataframe \n",
    "df = df[df['Borough'] != 'Not assigned']                             # There may be still empty boroughs\n",
    "df.reset_index(inplace =  True, drop=True)                           # clean up\n",
    "df.head(10)"
   ]
  },
  {
   "cell_type": "code",
   "execution_count": 7,
   "metadata": {
    "scrolled": false
   },
   "outputs": [
    {
     "name": "stdout",
     "output_type": "stream",
     "text": [
      "Shape of Dataframe: (103, 3)\n"
     ]
    }
   ],
   "source": [
    "print('Shape of Dataframe:', df.shape)"
   ]
  },
  {
   "cell_type": "markdown",
   "metadata": {},
   "source": [
    "<a id=\"PartII\"></a>\n",
    "\n",
    "# Part II\n",
    "\n",
    "[Top](#Top)"
   ]
  },
  {
   "cell_type": "code",
   "execution_count": 8,
   "metadata": {
    "scrolled": false
   },
   "outputs": [],
   "source": [
    "import geocoder"
   ]
  },
  {
   "cell_type": "markdown",
   "metadata": {},
   "source": [
    "### Give geocoder a try . . . "
   ]
  },
  {
   "cell_type": "code",
   "execution_count": 9,
   "metadata": {
    "scrolled": false
   },
   "outputs": [
    {
     "name": "stdout",
     "output_type": "stream",
     "text": [
      "..................................................................................................... geocoder not responding\n"
     ]
    }
   ],
   "source": [
    "lat_lng_coords = None\n",
    "\n",
    "postal_code = 'M5G'\n",
    "counter = 0\n",
    "while(lat_lng_coords is None):\n",
    "  g = geocoder.google('{}, Toronto, Ontario'.format(postal_code))\n",
    "  lat_lng_coords = g.latlng\n",
    "  print('.', sep='',end= '') \n",
    "  counter += 1\n",
    "  if counter > 100: \n",
    "    print(' geocoder not responding')\n",
    "    break"
   ]
  },
  {
   "cell_type": "markdown",
   "metadata": {},
   "source": [
    "Giving up on geocoder. Loading csv file."
   ]
  },
  {
   "cell_type": "code",
   "execution_count": 10,
   "metadata": {
    "scrolled": false
   },
   "outputs": [
    {
     "data": {
      "text/html": [
       "<div>\n",
       "<style scoped>\n",
       "    .dataframe tbody tr th:only-of-type {\n",
       "        vertical-align: middle;\n",
       "    }\n",
       "\n",
       "    .dataframe tbody tr th {\n",
       "        vertical-align: top;\n",
       "    }\n",
       "\n",
       "    .dataframe thead th {\n",
       "        text-align: right;\n",
       "    }\n",
       "</style>\n",
       "<table border=\"1\" class=\"dataframe\">\n",
       "  <thead>\n",
       "    <tr style=\"text-align: right;\">\n",
       "      <th></th>\n",
       "      <th>Postal Code</th>\n",
       "      <th>Latitude</th>\n",
       "      <th>Longitude</th>\n",
       "    </tr>\n",
       "  </thead>\n",
       "  <tbody>\n",
       "    <tr>\n",
       "      <th>0</th>\n",
       "      <td>M1B</td>\n",
       "      <td>43.806686</td>\n",
       "      <td>-79.194353</td>\n",
       "    </tr>\n",
       "    <tr>\n",
       "      <th>1</th>\n",
       "      <td>M1C</td>\n",
       "      <td>43.784535</td>\n",
       "      <td>-79.160497</td>\n",
       "    </tr>\n",
       "    <tr>\n",
       "      <th>2</th>\n",
       "      <td>M1E</td>\n",
       "      <td>43.763573</td>\n",
       "      <td>-79.188711</td>\n",
       "    </tr>\n",
       "    <tr>\n",
       "      <th>3</th>\n",
       "      <td>M1G</td>\n",
       "      <td>43.770992</td>\n",
       "      <td>-79.216917</td>\n",
       "    </tr>\n",
       "    <tr>\n",
       "      <th>4</th>\n",
       "      <td>M1H</td>\n",
       "      <td>43.773136</td>\n",
       "      <td>-79.239476</td>\n",
       "    </tr>\n",
       "  </tbody>\n",
       "</table>\n",
       "</div>"
      ],
      "text/plain": [
       "  Postal Code   Latitude  Longitude\n",
       "0         M1B  43.806686 -79.194353\n",
       "1         M1C  43.784535 -79.160497\n",
       "2         M1E  43.763573 -79.188711\n",
       "3         M1G  43.770992 -79.216917\n",
       "4         M1H  43.773136 -79.239476"
      ]
     },
     "execution_count": 10,
     "metadata": {},
     "output_type": "execute_result"
    }
   ],
   "source": [
    "df_PC = pd.read_csv('PostalCodesLL.csv')\n",
    "df_PC.head()"
   ]
  },
  {
   "cell_type": "markdown",
   "metadata": {},
   "source": [
    "## Get coordinates"
   ]
  },
  {
   "cell_type": "code",
   "execution_count": 11,
   "metadata": {
    "scrolled": false
   },
   "outputs": [
    {
     "name": "stdout",
     "output_type": "stream",
     "text": [
      "No coordinates found for: \n",
      "\n",
      "A total of 0\n"
     ]
    }
   ],
   "source": [
    "Latitude = []\n",
    "Longitude = []\n",
    "NoCoord = []\n",
    "print('No coordinates found for: ', end ='')\n",
    "for PC in df['Postcode']:\n",
    "    LL = df_PC[df_PC['Postal Code'] == PC]\n",
    "    if LL.empty:\n",
    "        print(PC, end =' ')\n",
    "        NoCoord.append(df.index.get_loc(df.index[df['Postcode'] == PC][0]))\n",
    "        Latitude.append(0)\n",
    "        Longitude.append(0)\n",
    "    else:    \n",
    "        Latitude.append(LL['Latitude'].values[0])\n",
    "        Longitude.append(LL['Longitude'].values[0])\n",
    "print('\\n\\nA total of', len(NoCoord))"
   ]
  },
  {
   "cell_type": "markdown",
   "metadata": {},
   "source": [
    "## Insert coordinates into dataframe"
   ]
  },
  {
   "cell_type": "code",
   "execution_count": 12,
   "metadata": {
    "scrolled": false
   },
   "outputs": [
    {
     "data": {
      "text/html": [
       "<div>\n",
       "<style scoped>\n",
       "    .dataframe tbody tr th:only-of-type {\n",
       "        vertical-align: middle;\n",
       "    }\n",
       "\n",
       "    .dataframe tbody tr th {\n",
       "        vertical-align: top;\n",
       "    }\n",
       "\n",
       "    .dataframe thead th {\n",
       "        text-align: right;\n",
       "    }\n",
       "</style>\n",
       "<table border=\"1\" class=\"dataframe\">\n",
       "  <thead>\n",
       "    <tr style=\"text-align: right;\">\n",
       "      <th></th>\n",
       "      <th>Postcode</th>\n",
       "      <th>Borough</th>\n",
       "      <th>Neighbourhood</th>\n",
       "      <th>Latitude</th>\n",
       "      <th>Longitude</th>\n",
       "    </tr>\n",
       "  </thead>\n",
       "  <tbody>\n",
       "    <tr>\n",
       "      <th>0</th>\n",
       "      <td>M3A</td>\n",
       "      <td>North York</td>\n",
       "      <td>Parkwoods</td>\n",
       "      <td>43.753259</td>\n",
       "      <td>-79.329656</td>\n",
       "    </tr>\n",
       "    <tr>\n",
       "      <th>1</th>\n",
       "      <td>M4A</td>\n",
       "      <td>North York</td>\n",
       "      <td>Victoria Village</td>\n",
       "      <td>43.725882</td>\n",
       "      <td>-79.315572</td>\n",
       "    </tr>\n",
       "    <tr>\n",
       "      <th>2</th>\n",
       "      <td>M5A</td>\n",
       "      <td>Downtown Toronto</td>\n",
       "      <td>Harbourfront, Regent Park</td>\n",
       "      <td>43.654260</td>\n",
       "      <td>-79.360636</td>\n",
       "    </tr>\n",
       "    <tr>\n",
       "      <th>3</th>\n",
       "      <td>M6A</td>\n",
       "      <td>North York</td>\n",
       "      <td>Lawrence Heights, Lawrence Manor</td>\n",
       "      <td>43.718518</td>\n",
       "      <td>-79.464763</td>\n",
       "    </tr>\n",
       "    <tr>\n",
       "      <th>4</th>\n",
       "      <td>M7A</td>\n",
       "      <td>Queen's Park</td>\n",
       "      <td>Not assigned</td>\n",
       "      <td>43.662301</td>\n",
       "      <td>-79.389494</td>\n",
       "    </tr>\n",
       "  </tbody>\n",
       "</table>\n",
       "</div>"
      ],
      "text/plain": [
       "  Postcode           Borough                     Neighbourhood   Latitude  \\\n",
       "0      M3A        North York                         Parkwoods  43.753259   \n",
       "1      M4A        North York                  Victoria Village  43.725882   \n",
       "2      M5A  Downtown Toronto         Harbourfront, Regent Park  43.654260   \n",
       "3      M6A        North York  Lawrence Heights, Lawrence Manor  43.718518   \n",
       "4      M7A      Queen's Park                      Not assigned  43.662301   \n",
       "\n",
       "   Longitude  \n",
       "0 -79.329656  \n",
       "1 -79.315572  \n",
       "2 -79.360636  \n",
       "3 -79.464763  \n",
       "4 -79.389494  "
      ]
     },
     "execution_count": 12,
     "metadata": {},
     "output_type": "execute_result"
    }
   ],
   "source": [
    "df.insert(3,'Latitude',Latitude)\n",
    "df.insert(4,'Longitude',Longitude)\n",
    "df.head()"
   ]
  },
  {
   "cell_type": "markdown",
   "metadata": {},
   "source": [
    "<a id=\"PartIII\"></a>\n",
    "\n",
    "# Part III\n",
    "\n",
    "[Top](#Top)"
   ]
  },
  {
   "cell_type": "markdown",
   "metadata": {},
   "source": [
    "### Boroughs with 'Toronto'"
   ]
  },
  {
   "cell_type": "code",
   "execution_count": 13,
   "metadata": {
    "scrolled": false
   },
   "outputs": [
    {
     "name": "stdout",
     "output_type": "stream",
     "text": [
      "Number of boroughs that contain 'Toronto': 38\n"
     ]
    }
   ],
   "source": [
    "dfdt = df[df['Borough'].str.contains('Toronto')]\n",
    "dfdt.reset_index(inplace =  True, drop=True)\n",
    "print(\"Number of boroughs that contain 'Toronto':\",len(dfdt))"
   ]
  },
  {
   "cell_type": "code",
   "execution_count": 18,
   "metadata": {
    "scrolled": false
   },
   "outputs": [
    {
     "data": {
      "text/html": [
       "<div style=\"width:100%;\"><div style=\"position:relative;width:100%;height:0;padding-bottom:60%;\"><iframe src=\"data:text/html;charset=utf-8;base64,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\" style=\"position:absolute;width:100%;height:100%;left:0;top:0;border:none !important;\" allowfullscreen webkitallowfullscreen mozallowfullscreen></iframe></div></div>"
      ],
      "text/plain": [
       "<folium.folium.Map at 0x15b0f5a5160>"
      ]
     },
     "execution_count": 18,
     "metadata": {},
     "output_type": "execute_result"
    }
   ],
   "source": [
    "map_toronto = folium.Map(location=[43.651070,-79.411079], zoom_start=12)\n",
    "for lat, lng in zip(dfdt['Latitude'], dfdt['Longitude']):\n",
    "    folium.CircleMarker(\n",
    "        [lat, lng],\n",
    "        radius=5,\n",
    "        popup='',\n",
    "        color='blue',\n",
    "        fill=True,\n",
    "        fill_color='#3186cc',\n",
    "        fill_opacity=0.5,\n",
    "        parse_html=False).add_to(map_toronto) \n",
    "map_toronto"
   ]
  },
  {
   "cell_type": "markdown",
   "metadata": {},
   "source": [
    "## Cluster Analysis: Where is it most dense?"
   ]
  },
  {
   "cell_type": "markdown",
   "metadata": {},
   "source": [
    "### Cluster analysis"
   ]
  },
  {
   "cell_type": "code",
   "execution_count": 15,
   "metadata": {
    "scrolled": false
   },
   "outputs": [],
   "source": [
    "X = np.array(dfdt[['Latitude','Longitude']])\n",
    "clust = DBSCAN(eps=0.01).fit(X)\n",
    "idx = clust.core_sample_indices_"
   ]
  },
  {
   "cell_type": "markdown",
   "metadata": {},
   "source": [
    "### Visualize"
   ]
  },
  {
   "cell_type": "code",
   "execution_count": 16,
   "metadata": {
    "scrolled": false
   },
   "outputs": [
    {
     "data": {
      "text/html": [
       "<div style=\"width:100%;\"><div style=\"position:relative;width:100%;height:0;padding-bottom:60%;\"><iframe src=\"data:text/html;charset=utf-8;base64,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\" style=\"position:absolute;width:100%;height:100%;left:0;top:0;border:none !important;\" allowfullscreen webkitallowfullscreen mozallowfullscreen></iframe></div></div>"
      ],
      "text/plain": [
       "<folium.folium.Map at 0x15b0f45f080>"
      ]
     },
     "execution_count": 16,
     "metadata": {},
     "output_type": "execute_result"
    }
   ],
   "source": [
    "map_toronto = folium.Map(location=[43.651070,-79.411079], zoom_start=12)\n",
    "for lat, lng in zip(dfdt['Latitude'], dfdt['Longitude']):\n",
    "    folium.CircleMarker(\n",
    "        [lat, lng],\n",
    "        radius=5,\n",
    "        popup='',\n",
    "        color='blue',\n",
    "        fill=True,\n",
    "        fill_color='#3186cc',\n",
    "        fill_opacity=0.5,\n",
    "        parse_html=False).add_to(map_toronto) \n",
    "for i in idx:\n",
    "    folium.CircleMarker(\n",
    "        [dfdt.loc[i,'Latitude'], dfdt.loc[i,'Longitude']],\n",
    "        radius=5,\n",
    "        popup='',\n",
    "        color='',\n",
    "        fill=True,\n",
    "        fill_color='red',\n",
    "        fill_opacity=1,\n",
    "        parse_html=False).add_to(map_toronto) \n",
    "\n",
    "map_toronto"
   ]
  },
  {
   "cell_type": "code",
   "execution_count": null,
   "metadata": {
    "scrolled": false
   },
   "outputs": [],
   "source": []
  },
  {
   "cell_type": "code",
   "execution_count": null,
   "metadata": {
    "scrolled": false
   },
   "outputs": [],
   "source": []
  }
 ],
 "metadata": {
  "kernelspec": {
   "display_name": "Python 3",
   "language": "python",
   "name": "python3"
  },
  "language_info": {
   "codemirror_mode": {
    "name": "ipython",
    "version": 3
   },
   "file_extension": ".py",
   "mimetype": "text/x-python",
   "name": "python",
   "nbconvert_exporter": "python",
   "pygments_lexer": "ipython3",
   "version": "3.6.5"
  }
 },
 "nbformat": 4,
 "nbformat_minor": 1
}
